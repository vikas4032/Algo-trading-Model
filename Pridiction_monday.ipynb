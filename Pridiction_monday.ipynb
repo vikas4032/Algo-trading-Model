{
 "cells": [
  {
   "cell_type": "code",
   "execution_count": null,
   "id": "ccff8944",
   "metadata": {},
   "outputs": [],
   "source": [
    "import pandas as pd\n",
    "import numpy as np\n",
    "import nsepy\n",
    "from nsepy import get_history as web\n",
    "from datetime import date\n",
    "from datetime import datetime\n",
    "from datetime import timedelta\n",
    "import matplotlib.pyplot as plt\n",
    "%matplotlib inline\n",
    "plt.style.use('seaborn-darkgrid')\n",
    "from nsepy.derivatives import get_expiry_date"
   ]
  },
  {
   "cell_type": "code",
   "execution_count": null,
   "id": "03d14c52",
   "metadata": {},
   "outputs": [],
   "source": [
    "fr = pd.read_csv('friday_pe_close.csv')\n",
    "fr.set_index('Unnamed: 0',inplace=True)\n",
    "fr.index = pd.to_datetime(fr.index)"
   ]
  },
  {
   "cell_type": "code",
   "execution_count": null,
   "id": "9e2b54fc",
   "metadata": {},
   "outputs": [],
   "source": [
    "mon=pd.read_csv('monday_pe_open.csv')\n",
    "mon.set_index('Unnamed: 0', inplace = True)\n",
    "mon.index = pd.to_datetime(mon.index)\n",
    "mon.index = mon.index - timedelta(days=3)\n",
    "\n",
    "monpre = mon[['Open(+1000)','Open(+1050)','Open(+1100)','Open(+1150)','Open(+1200)','Open(+1250)','Open(+1300)','Open(+1350)','Open(+1400)','Open(+1450)','High(+1450)']]\n",
    "monpre.rename(columns = {'Open(+1000)':'mon1000_open','Open(+1050)':'mon1050_open','Open(+1100)':'mon1100_open','Open(+1150)':'mon1150_open','Open(+1200)':'mon1200_open','Open(+1250)':'mon1250_open','Open(+1300)':'mon1300_open','Open(+1350)':'mon1350_open','Open(+1400)':'mon1400_open','Open(+1450)':'mon1450_open','High(+1450)':'Predicted_high1450'}, inplace = True)"
   ]
  },
  {
   "cell_type": "code",
   "execution_count": null,
   "id": "c883e433",
   "metadata": {},
   "outputs": [],
   "source": [
    "nf = pd.read_csv('nifty.csv')\n",
    "nf.set_index('Date',inplace=True)\n",
    "nf.index = pd.to_datetime(nf.index)"
   ]
  },
  {
   "cell_type": "code",
   "execution_count": null,
   "id": "2b2ae38e",
   "metadata": {},
   "outputs": [],
   "source": [
    "nffr = nf[nf['day_of_week']=='Friday']\n",
    "nffr_close = nffr[['Close']]\n",
    "nffr_close.rename(columns = {'Close':'Nifty_Friday_close'},inplace=True)"
   ]
  },
  {
   "cell_type": "code",
   "execution_count": null,
   "id": "4091a24d",
   "metadata": {
    "scrolled": true
   },
   "outputs": [],
   "source": [
    "nffr_close"
   ]
  },
  {
   "cell_type": "code",
   "execution_count": null,
   "id": "a7466fd6",
   "metadata": {},
   "outputs": [],
   "source": [
    "nfmon= nf[nf['day_of_week']=='Monday']\n",
    "nfmon_open = nfmon[['Open']]\n",
    "nfmon_open.rename(columns={'Open':'Nifty_Monday_open'},inplace=True)\n",
    "nfmon_open.index = nfmon_open.index - timedelta(days = 3)"
   ]
  },
  {
   "cell_type": "code",
   "execution_count": null,
   "id": "47ab70fa",
   "metadata": {},
   "outputs": [],
   "source": []
  },
  {
   "cell_type": "code",
   "execution_count": null,
   "id": "04f4948c",
   "metadata": {
    "scrolled": true
   },
   "outputs": [],
   "source": [
    "for_mon = pd.concat([fr,nffr_close,nfmon_open,monpre],axis = 1)\n",
    "for_mon = for_mon.dropna()\n",
    "\n",
    "for_mon"
   ]
  },
  {
   "cell_type": "code",
   "execution_count": null,
   "id": "17070082",
   "metadata": {},
   "outputs": [],
   "source": [
    "X= for_mon.drop('Predicted_high1450',axis=1)\n",
    "Y=for_mon['Predicted_high1450']"
   ]
  },
  {
   "cell_type": "code",
   "execution_count": null,
   "id": "a926f71c",
   "metadata": {},
   "outputs": [],
   "source": [
    "from sklearn.model_selection import train_test_split\n",
    "x_train, x_test,y_train,y_test=train_test_split(X,Y, test_size=0.4,random_state=30, shuffle=True)\n",
    "from sklearn.linear_model import LinearRegression\n",
    "lm = LinearRegression()\n",
    "lm.fit(x_train,y_train)"
   ]
  },
  {
   "cell_type": "code",
   "execution_count": null,
   "id": "bdde6c61",
   "metadata": {},
   "outputs": [],
   "source": [
    "print(lm.intercept_)"
   ]
  },
  {
   "cell_type": "code",
   "execution_count": null,
   "id": "be8391a4",
   "metadata": {
    "scrolled": true
   },
   "outputs": [],
   "source": [
    "coeff_df = pd.DataFrame(lm.coef_,X.columns,columns=['Coefficient'])\n",
    "coeff_df"
   ]
  },
  {
   "cell_type": "code",
   "execution_count": null,
   "id": "69a891c1",
   "metadata": {},
   "outputs": [],
   "source": [
    "predictions = lm.predict(x_test)\n",
    "plt.scatter(y_test,predictions)"
   ]
  },
  {
   "cell_type": "code",
   "execution_count": null,
   "id": "422d38e4",
   "metadata": {},
   "outputs": [],
   "source": [
    "df = pd.DataFrame()\n",
    "df['Actuals'] = y_test\n",
    "df['Pred'] = predictions\n",
    "df"
   ]
  },
  {
   "cell_type": "code",
   "execution_count": null,
   "id": "d15a90d0",
   "metadata": {},
   "outputs": [],
   "source": [
    "df['MAPE'] = abs((df.Pred - df.Actuals) / df.Actuals) * 100\n",
    "df['Accuracy'] = 100 - df.MAPE\n",
    "df"
   ]
  },
  {
   "cell_type": "code",
   "execution_count": null,
   "id": "9d367b8e",
   "metadata": {},
   "outputs": [],
   "source": [
    "df.Accuracy.mean()"
   ]
  },
  {
   "cell_type": "code",
   "execution_count": null,
   "id": "8c0aceb6",
   "metadata": {},
   "outputs": [],
   "source": []
  }
 ],
 "metadata": {
  "kernelspec": {
   "display_name": "Python 3 (ipykernel)",
   "language": "python",
   "name": "python3"
  },
  "language_info": {
   "codemirror_mode": {
    "name": "ipython",
    "version": 3
   },
   "file_extension": ".py",
   "mimetype": "text/x-python",
   "name": "python",
   "nbconvert_exporter": "python",
   "pygments_lexer": "ipython3",
   "version": "3.9.12"
  }
 },
 "nbformat": 4,
 "nbformat_minor": 5
}
