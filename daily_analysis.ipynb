{
 "cells": [
  {
   "cell_type": "code",
   "execution_count": null,
   "id": "4bb9e17b",
   "metadata": {},
   "outputs": [],
   "source": [
    "import pandas as pd\n",
    "import numpy as np\n",
    "import nsepy\n",
    "from nsepy import get_history as web\n",
    "from datetime import date\n",
    "from datetime import datetime\n",
    "from datetime import timedelta\n",
    "import matplotlib.pyplot as plt\n",
    "%matplotlib inline\n",
    "plt.style.use('seaborn-darkgrid')\n",
    "from nsepy.derivatives import get_expiry_date"
   ]
  },
  {
   "cell_type": "code",
   "execution_count": null,
   "id": "1a5dd6fc",
   "metadata": {
    "scrolled": false
   },
   "outputs": [],
   "source": [
    "nifty = web('NIFTY',start = date(2021,1,1), end  = date(2022,12,14),index = True)\n",
    "nifty.reset_index(inplace=True)"
   ]
  },
  {
   "cell_type": "code",
   "execution_count": null,
   "id": "d6ff33dc",
   "metadata": {},
   "outputs": [],
   "source": [
    "nifty['Date']=pd.to_datetime(nifty['Date'])\n",
    "\n",
    "nifty['day_of_week'] = nifty['Date'].dt.day_name()"
   ]
  },
  {
   "cell_type": "code",
   "execution_count": null,
   "id": "a9cc93bf",
   "metadata": {},
   "outputs": [],
   "source": [
    "nifty.set_index('Date',inplace=True)"
   ]
  },
  {
   "cell_type": "code",
   "execution_count": null,
   "id": "c09c8b0a",
   "metadata": {},
   "outputs": [],
   "source": [
    "nifty.index = pd.to_datetime(nifty.index)"
   ]
  },
  {
   "cell_type": "code",
   "execution_count": null,
   "id": "9705580d",
   "metadata": {},
   "outputs": [],
   "source": [
    "nifty.to_csv('nifty.csv',index=True)"
   ]
  },
  {
   "cell_type": "code",
   "execution_count": null,
   "id": "6ce3e649",
   "metadata": {},
   "outputs": [],
   "source": [
    "nifty = pd.read_csv('nifty.csv')"
   ]
  },
  {
   "cell_type": "code",
   "execution_count": null,
   "id": "c6ee8f10",
   "metadata": {},
   "outputs": [],
   "source": [
    "nifty.set_index('day_of_week',inplace=True)"
   ]
  },
  {
   "cell_type": "code",
   "execution_count": null,
   "id": "8339227d",
   "metadata": {},
   "outputs": [],
   "source": [
    "thursday=nifty.loc['Thursday']\n",
    "friday=nifty.loc['Friday']\n",
    "monday=nifty.loc['Monday']\n",
    "tuesday=nifty.loc['Tuesday']\n",
    "wednesday=nifty.loc['Wednesday']"
   ]
  },
  {
   "cell_type": "code",
   "execution_count": null,
   "id": "10ab2e29",
   "metadata": {},
   "outputs": [],
   "source": [
    "thursday.reset_index(inplace=True)\n",
    "friday.reset_index(inplace=True)\n",
    "monday.reset_index(inplace=True)\n",
    "tuesday.reset_index(inplace=True)\n",
    "wednesday.reset_index(inplace=True)"
   ]
  },
  {
   "cell_type": "code",
   "execution_count": null,
   "id": "78bbd18d",
   "metadata": {},
   "outputs": [],
   "source": [
    "tuesday"
   ]
  },
  {
   "cell_type": "markdown",
   "id": "acc31153",
   "metadata": {},
   "source": [
    "# Thursday close"
   ]
  },
  {
   "cell_type": "markdown",
   "id": "cdc3ce7d",
   "metadata": {},
   "source": [
    "I have ignored those thursday whose expiry is not after +7 days"
   ]
  },
  {
   "cell_type": "code",
   "execution_count": null,
   "id": "79888e87",
   "metadata": {},
   "outputs": [],
   "source": [
    "thursday['Date']=pd.to_datetime(thursday['Date'])\n",
    "cols=[]\n",
    "cols.append('Date')\n",
    "for i in range(10):\n",
    "    cols.append('Open(+'+str(1000+50*(i))+')')\n",
    "    cols.append('High(+'+str(1000+50*(i))+')')\n",
    "    cols.append('Low(+'+str(1000+50*(i))+')')\n",
    "    cols.append('Close(+'+str(1000+50*(i))+')')\n",
    "    cols.append('Change in OI(+'+str(1000+50*(i))+')')\n",
    "data = np.zeros(51)\n",
    "thursday_ce_close = pd.DataFrame(data=[data],columns=cols)\n",
    "thursday_ce_close.set_index('Date',inplace=True)\n",
    "\n",
    "p=0\n",
    "\n",
    "for day in range(len(thursday.Close)):\n",
    "    try:\n",
    "        temp_df = pd.DataFrame(index = [thursday['Date'][day]])\n",
    "#         temp_df.set_index['Date']\n",
    "        for strikes in range(10):\n",
    "            \n",
    "            StartDate = thursday['Date'][day]\n",
    "            EndDate=thursday['Date'][day]\n",
    "        \n",
    "            StrikePrice=int(round(thursday['Close'][day]/50)*50+1000+50*strikes)  \n",
    "            \n",
    "            ExpiryDate = thursday['Date'][day] + timedelta(days = 7)\n",
    "            a = web('NIFTY', start =StartDate, end = EndDate, index = True, option_type='CE', strike_price=StrikePrice, expiry_date=ExpiryDate)\n",
    "#             df=pd.DataFrame([StartDate,a['Open'][0],a['High'][0],a['Low'][0],a['Low'][0],a['Change in OI'][0]],columns=['Date','Open(+'+str(1000+50*(strikes))+')','High(+'+str(1000+50*(strikes))+')','Low(+'+str(1000+50*(strikes))+')','Close(+'+str(1000+50*(strikes))+')','Change in OI(+'+str(1000+50*(strikes))+')'])\n",
    "            temp_df['Open(+'+str(1000+50*(strikes))+')']=a['Open'][0]\n",
    "            temp_df['High(+'+str(1000+50*(strikes))+')']=a['High'][0]\n",
    "            temp_df['Low(+'+str(1000+50*(strikes))+')']=a['Low'][0]\n",
    "            temp_df['Close(+'+str(1000+50*(strikes))+')']=a['Close'][0]\n",
    "            temp_df['Change in OI(+'+str(1000+50*(strikes))+')']=a['Change in OI'][0]\n",
    "#             df.set_index('Date')\n",
    "#             temp_df = pd.concat([temp_df,df],axis=1)\n",
    "#         temp_df.set_index('Date')\n",
    "#         print(temp_df)\n",
    "        thursday_ce_close = pd.concat([thursday_ce_close,temp_df], axis = 0)\n",
    "            \n",
    "    except:\n",
    "        p=p+1\n",
    "        continue\n",
    "print(p)\n",
    "    \n",
    "\n",
    "    "
   ]
  },
  {
   "cell_type": "code",
   "execution_count": null,
   "id": "ea156a88",
   "metadata": {},
   "outputs": [],
   "source": [
    "thursday_ce_close.drop(thursday_ce_close.index[0],inplace=True)"
   ]
  },
  {
   "cell_type": "code",
   "execution_count": null,
   "id": "27db9118",
   "metadata": {},
   "outputs": [],
   "source": [
    "thursday_ce_close.index = pd.to_datetime(thursday_ce_close.index)"
   ]
  },
  {
   "cell_type": "code",
   "execution_count": null,
   "id": "337ed5a1",
   "metadata": {},
   "outputs": [],
   "source": [
    "thursday_ce_close.to_csv('thursday_ce_close.csv',index = True)"
   ]
  },
  {
   "cell_type": "markdown",
   "id": "e841f99d",
   "metadata": {},
   "source": [
    "# thursday open"
   ]
  },
  {
   "cell_type": "code",
   "execution_count": null,
   "id": "3084feb5",
   "metadata": {},
   "outputs": [],
   "source": [
    "\n",
    "cols=[]\n",
    "cols.append('Date')\n",
    "for i in range(10):\n",
    "    cols.append('Open(+'+str(1000+50*(i))+')')\n",
    "    cols.append('High(+'+str(1000+50*(i))+')')\n",
    "    cols.append('Low(+'+str(1000+50*(i))+')')\n",
    "    cols.append('Close(+'+str(1000+50*(i))+')')\n",
    "    cols.append('Change in OI(+'+str(1000+50*(i))+')')\n",
    "data = np.zeros(51)\n",
    "thursday_ce_open = pd.DataFrame(data=[data],columns=cols)\n",
    "thursday_ce_open.set_index('Date',inplace=True)\n",
    "\n",
    "p=0\n",
    "\n",
    "for day in range(len(thursday.Open)):\n",
    "\n",
    "    try:\n",
    "        temp_df = pd.DataFrame(index = [thursday['Date'][day]])\n",
    "#         temp_df.set_index['Date']\n",
    "        for strikes in range(10):\n",
    "            \n",
    "            StartDate = thursday['Date'][day]\n",
    "            EndDate=thursday['Date'][day]\n",
    "        \n",
    "            StrikePrice=int(round(thursday['Open'][day]/50)*50+1000+50*strikes)  \n",
    "            \n",
    "            ExpiryDate = thursday['Date'][day] + timedelta(days = 7)\n",
    "            a = web('NIFTY', start =StartDate, end = EndDate, index = True, option_type='CE', strike_price=StrikePrice, expiry_date=ExpiryDate)\n",
    "#             df=pd.DataFrame([StartDate,a['Open'][0],a['High'][0],a['Low'][0],a['Low'][0],a['Change in OI'][0]],columns=['Date','Open(+'+str(1000+50*(strikes))+')','High(+'+str(1000+50*(strikes))+')','Low(+'+str(1000+50*(strikes))+')','Close(+'+str(1000+50*(strikes))+')','Change in OI(+'+str(1000+50*(strikes))+')'])\n",
    "            temp_df['Open(+'+str(1000+50*(strikes))+')']=a['Open'][0]\n",
    "            temp_df['High(+'+str(1000+50*(strikes))+')']=a['High'][0]\n",
    "            temp_df['Low(+'+str(1000+50*(strikes))+')']=a['Low'][0]\n",
    "            temp_df['Close(+'+str(1000+50*(strikes))+')']=a['Close'][0]\n",
    "            temp_df['Change in OI(+'+str(1000+50*(strikes))+')']=a['Change in OI'][0]\n",
    "#             df.set_index('Date')\n",
    "#             temp_df = pd.concat([temp_df,df],axis=1)\n",
    "#         temp_df.set_index('Date')\n",
    "#         print(temp_df)\n",
    "        thursday_ce_open = pd.concat([thursday_ce_open,temp_df], axis = 0)\n",
    "            \n",
    "    except:\n",
    "        p=p+1\n",
    "        continue\n",
    "print(p)\n",
    "    \n",
    "\n",
    "    "
   ]
  },
  {
   "cell_type": "code",
   "execution_count": null,
   "id": "45968a7a",
   "metadata": {},
   "outputs": [],
   "source": [
    "thursday_ce_open.drop(thursday_ce_open.index[0],inplace=True)"
   ]
  },
  {
   "cell_type": "code",
   "execution_count": null,
   "id": "01a3197c",
   "metadata": {},
   "outputs": [],
   "source": [
    "thursday_ce_open.index = pd.to_datetime(thursday_ce_open.index)"
   ]
  },
  {
   "cell_type": "code",
   "execution_count": null,
   "id": "ca1c1693",
   "metadata": {},
   "outputs": [],
   "source": [
    "thursday_ce_open.to_csv('thursday_ce_open.csv',index = True)"
   ]
  },
  {
   "cell_type": "code",
   "execution_count": null,
   "id": "889cd26a",
   "metadata": {},
   "outputs": [],
   "source": []
  },
  {
   "cell_type": "markdown",
   "id": "0eeab89d",
   "metadata": {},
   "source": [
    "# Friday close"
   ]
  },
  {
   "cell_type": "code",
   "execution_count": null,
   "id": "36690838",
   "metadata": {},
   "outputs": [],
   "source": [
    "friday['Date']=pd.to_datetime(friday['Date'])\n",
    "cols=[]\n",
    "cols.append('Date')\n",
    "for i in range(10):\n",
    "    cols.append('Open(+'+str(1000+50*(i))+')')\n",
    "    cols.append('High(+'+str(1000+50*(i))+')')\n",
    "    cols.append('Low(+'+str(1000+50*(i))+')')\n",
    "    cols.append('Close(+'+str(1000+50*(i))+')')\n",
    "    cols.append('Change in OI(+'+str(1000+50*(i))+')')\n",
    "data = np.zeros(51)\n",
    "friday_ce_close = pd.DataFrame(data=[data],columns=cols)\n",
    "friday_ce_close.set_index('Date',inplace=True)\n",
    "\n",
    "p=0\n",
    "\n",
    "for day in range(len(friday.Close)):\n",
    "\n",
    "    try:\n",
    "        temp_df = pd.DataFrame(index = [friday['Date'][day]])\n",
    "#         temp_df.set_index['Date']\n",
    "        for strikes in range(10):\n",
    "            \n",
    "            StartDate = friday['Date'][day]\n",
    "            EndDate=friday['Date'][day]\n",
    "        \n",
    "            StrikePrice=int(round(friday['Close'][day]/50)*50-(1000+50*strikes))  \n",
    "            \n",
    "            ExpiryDate = friday['Date'][day] + timedelta(days = 6)\n",
    "            a = web('NIFTY', start =StartDate, end = EndDate, index = True, option_type='PE', strike_price=StrikePrice, expiry_date=ExpiryDate)\n",
    "#             df=pd.DataFrame([StartDate,a['Open'][0],a['High'][0],a['Low'][0],a['Low'][0],a['Change in OI'][0]],columns=['Date','Open(+'+str(1000+50*(strikes))+')','High(+'+str(1000+50*(strikes))+')','Low(+'+str(1000+50*(strikes))+')','Close(+'+str(1000+50*(strikes))+')','Change in OI(+'+str(1000+50*(strikes))+')'])\n",
    "            temp_df['Open(+'+str(1000+50*(strikes))+')']=a['Open'][0]\n",
    "            temp_df['High(+'+str(1000+50*(strikes))+')']=a['High'][0]\n",
    "            temp_df['Low(+'+str(1000+50*(strikes))+')']=a['Low'][0]\n",
    "            temp_df['Close(+'+str(1000+50*(strikes))+')']=a['Close'][0]\n",
    "            temp_df['Change in OI(+'+str(1000+50*(strikes))+')']=a['Change in OI'][0]\n",
    "#             df.set_index('Date')\n",
    "#             temp_df = pd.concat([temp_df,df],axis=1)\n",
    "#         temp_df.set_index('Date')\n",
    "#         print(temp_df)\n",
    "        friday_ce_close = pd.concat([friday_ce_close,temp_df], axis = 0)\n",
    "            \n",
    "    except:\n",
    "        p=p+1\n",
    "        continue\n",
    "print(p)\n",
    "\n",
    "\n",
    "    "
   ]
  },
  {
   "cell_type": "code",
   "execution_count": null,
   "id": "62dbc583",
   "metadata": {},
   "outputs": [],
   "source": [
    "friday_ce_close"
   ]
  },
  {
   "cell_type": "code",
   "execution_count": null,
   "id": "fa32daa4",
   "metadata": {},
   "outputs": [],
   "source": [
    "monday_ce_open"
   ]
  },
  {
   "cell_type": "code",
   "execution_count": null,
   "id": "79d9ee0d",
   "metadata": {},
   "outputs": [],
   "source": []
  },
  {
   "cell_type": "code",
   "execution_count": null,
   "id": "faeae4fc",
   "metadata": {},
   "outputs": [],
   "source": [
    "friday_ce_close.drop(friday_ce_close.index[0],inplace=True)"
   ]
  },
  {
   "cell_type": "code",
   "execution_count": null,
   "id": "ea836fc3",
   "metadata": {},
   "outputs": [],
   "source": [
    "friday_ce_close.index = pd.to_datetime(friday_ce_close.index)"
   ]
  },
  {
   "cell_type": "code",
   "execution_count": null,
   "id": "7eb44d28",
   "metadata": {},
   "outputs": [],
   "source": [
    "friday_ce_close.to_csv('friday_pe_close.csv',index = True)"
   ]
  },
  {
   "cell_type": "code",
   "execution_count": null,
   "id": "e605b36f",
   "metadata": {},
   "outputs": [],
   "source": []
  },
  {
   "cell_type": "markdown",
   "id": "97d20aa1",
   "metadata": {},
   "source": [
    "# friday open"
   ]
  },
  {
   "cell_type": "code",
   "execution_count": null,
   "id": "a71511a8",
   "metadata": {},
   "outputs": [],
   "source": [
    "\n",
    "cols=[]\n",
    "cols.append('Date')\n",
    "for i in range(10):\n",
    "    cols.append('Open(+'+str(1000+50*(i))+')')\n",
    "    cols.append('High(+'+str(1000+50*(i))+')')\n",
    "    cols.append('Low(+'+str(1000+50*(i))+')')\n",
    "    cols.append('Close(+'+str(1000+50*(i))+')')\n",
    "    cols.append('Change in OI(+'+str(1000+50*(i))+')')\n",
    "data = np.zeros(51)\n",
    "friday_ce_open = pd.DataFrame(data=[data],columns=cols)\n",
    "friday_ce_open.set_index('Date',inplace=True)\n",
    "\n",
    "p=0\n",
    "\n",
    "for day in range(len(friday.Open)):\n",
    "    try:\n",
    "        temp_df = pd.DataFrame(index = [friday['Date'][day]])\n",
    "#         temp_df.set_index['Date']\n",
    "        for strikes in range(10):\n",
    "            \n",
    "            StartDate = friday['Date'][day]\n",
    "            EndDate=friday['Date'][day]\n",
    "        \n",
    "            StrikePrice=int(round(friday['Open'][day]/50)*50+1000+50*strikes)  \n",
    "            \n",
    "            ExpiryDate = friday['Date'][day] + timedelta(days = 6)\n",
    "            a = web('NIFTY', start =StartDate, end = EndDate, index = True, option_type='CE', strike_price=StrikePrice, expiry_date=ExpiryDate)\n",
    "#             df=pd.DataFrame([StartDate,a['Open'][0],a['High'][0],a['Low'][0],a['Low'][0],a['Change in OI'][0]],columns=['Date','Open(+'+str(1000+50*(strikes))+')','High(+'+str(1000+50*(strikes))+')','Low(+'+str(1000+50*(strikes))+')','Close(+'+str(1000+50*(strikes))+')','Change in OI(+'+str(1000+50*(strikes))+')'])\n",
    "            temp_df['Open(+'+str(1000+50*(strikes))+')']=a['Open'][0]\n",
    "            temp_df['High(+'+str(1000+50*(strikes))+')']=a['High'][0]\n",
    "            temp_df['Low(+'+str(1000+50*(strikes))+')']=a['Low'][0]\n",
    "            temp_df['Close(+'+str(1000+50*(strikes))+')']=a['Close'][0]\n",
    "            temp_df['Change in OI(+'+str(1000+50*(strikes))+')']=a['Change in OI'][0]\n",
    "#             df.set_index('Date')\n",
    "#             temp_df = pd.concat([temp_df,df],axis=1)\n",
    "#         temp_df.set_index('Date')\n",
    "#         print(temp_df)\n",
    "        friday_ce_open = pd.concat([friday_ce_open,temp_df], axis = 0)\n",
    "            \n",
    "    except:\n",
    "        p=p+1\n",
    "        continue\n",
    "print(p)\n",
    "\n",
    "\n",
    "    "
   ]
  },
  {
   "cell_type": "code",
   "execution_count": null,
   "id": "f8618734",
   "metadata": {},
   "outputs": [],
   "source": [
    "friday_ce_open.drop(friday_ce_open.index[0],inplace=True)"
   ]
  },
  {
   "cell_type": "code",
   "execution_count": null,
   "id": "4c7b7bc7",
   "metadata": {},
   "outputs": [],
   "source": [
    "friday_ce_open.index = pd.to_datetime(friday_ce_open.index)"
   ]
  },
  {
   "cell_type": "code",
   "execution_count": null,
   "id": "8de7818a",
   "metadata": {},
   "outputs": [],
   "source": [
    "friday_ce_open.to_csv('friday_ce_open.csv',index = True)"
   ]
  },
  {
   "cell_type": "code",
   "execution_count": null,
   "id": "f290149d",
   "metadata": {},
   "outputs": [],
   "source": []
  },
  {
   "cell_type": "markdown",
   "id": "409f8b09",
   "metadata": {},
   "source": [
    "# monday close\n"
   ]
  },
  {
   "cell_type": "code",
   "execution_count": null,
   "id": "4bd0301b",
   "metadata": {},
   "outputs": [],
   "source": [
    "monday['Date']=pd.to_datetime(monday['Date'])\n",
    "cols=[]\n",
    "cols.append('Date')\n",
    "for i in range(10):\n",
    "    cols.append('Open(+'+str(1000+50*(i))+')')\n",
    "    cols.append('High(+'+str(1000+50*(i))+')')\n",
    "    cols.append('Low(+'+str(1000+50*(i))+')')\n",
    "    cols.append('Close(+'+str(1000+50*(i))+')')\n",
    "    cols.append('Change in OI(+'+str(1000+50*(i))+')')\n",
    "data = np.zeros(51)\n",
    "monday_ce_close = pd.DataFrame(data=[data],columns=cols)\n",
    "monday_ce_close.set_index('Date',inplace=True)\n",
    "\n",
    "p=0\n",
    "\n",
    "for day in range(len(monday.Close)):\n",
    "    try:\n",
    "        temp_df = pd.DataFrame(index = [monday['Date'][day]])\n",
    "#         temp_df.set_index['Date']\n",
    "        for strikes in range(10):\n",
    "            \n",
    "            StartDate = monday['Date'][day]\n",
    "            EndDate=monday['Date'][day]\n",
    "        \n",
    "            StrikePrice=int(round(monday['Close'][day]/50)*50+1000+50*strikes)  \n",
    "            \n",
    "            ExpiryDate = monday['Date'][day] + timedelta(days = 3)\n",
    "            a = web('NIFTY', start =StartDate, end = EndDate, index = True, option_type='CE', strike_price=StrikePrice, expiry_date=ExpiryDate)\n",
    "#             df=pd.DataFrame([StartDate,a['Open'][0],a['High'][0],a['Low'][0],a['Low'][0],a['Change in OI'][0]],columns=['Date','Open(+'+str(1000+50*(strikes))+')','High(+'+str(1000+50*(strikes))+')','Low(+'+str(1000+50*(strikes))+')','Close(+'+str(1000+50*(strikes))+')','Change in OI(+'+str(1000+50*(strikes))+')'])\n",
    "            temp_df['Open(+'+str(1000+50*(strikes))+')']=a['Open'][0]\n",
    "            temp_df['High(+'+str(1000+50*(strikes))+')']=a['High'][0]\n",
    "            temp_df['Low(+'+str(1000+50*(strikes))+')']=a['Low'][0]\n",
    "            temp_df['Close(+'+str(1000+50*(strikes))+')']=a['Close'][0]\n",
    "            temp_df['Change in OI(+'+str(1000+50*(strikes))+')']=a['Change in OI'][0]\n",
    "#             df.set_index('Date')\n",
    "#             temp_df = pd.concat([temp_df,df],axis=1)\n",
    "#         temp_df.set_index('Date')\n",
    "#         print(temp_df)\n",
    "        monday_ce_close = pd.concat([monday_ce_close,temp_df], axis = 0)\n",
    "            \n",
    "    except:\n",
    "        p=p+1\n",
    "        continue\n",
    "print(p)\n",
    "\n",
    "    "
   ]
  },
  {
   "cell_type": "code",
   "execution_count": null,
   "id": "a5a802d3",
   "metadata": {},
   "outputs": [],
   "source": [
    "monday_ce_close.drop(monday_ce_close.index[0], inplace = True)"
   ]
  },
  {
   "cell_type": "code",
   "execution_count": null,
   "id": "a64e0eaf",
   "metadata": {},
   "outputs": [],
   "source": [
    "monday_ce_close.index = pd.to_datetime(monday_ce_close.index)"
   ]
  },
  {
   "cell_type": "code",
   "execution_count": null,
   "id": "8d888f55",
   "metadata": {},
   "outputs": [],
   "source": [
    "monday_ce_close.to_csv('monday_ce_close.csv',index = True)"
   ]
  },
  {
   "cell_type": "markdown",
   "id": "8627da64",
   "metadata": {},
   "source": [
    "# Monday Open"
   ]
  },
  {
   "cell_type": "code",
   "execution_count": null,
   "id": "9aeb05e2",
   "metadata": {},
   "outputs": [],
   "source": [
    "\n",
    "cols=[]\n",
    "cols.append('Date')\n",
    "for i in range(10):\n",
    "    cols.append('Open(+'+str(1000+50*(i))+')')\n",
    "    cols.append('High(+'+str(1000+50*(i))+')')\n",
    "    cols.append('Low(+'+str(1000+50*(i))+')')\n",
    "    cols.append('Close(+'+str(1000+50*(i))+')')\n",
    "    cols.append('Change in OI(+'+str(1000+50*(i))+')')\n",
    "data = np.zeros(51)\n",
    "monday_ce_open = pd.DataFrame(data=[data],columns=cols)\n",
    "monday_ce_open.set_index('Date',inplace=True)\n",
    "\n",
    "p=0\n",
    "\n",
    "for day in range(len(monday.Open)):\n",
    "    \n",
    "    try:\n",
    "        temp_df = pd.DataFrame(index = [monday['Date'][day]])\n",
    "#         temp_df.set_index['Date']\n",
    "        for strikes in range(10):\n",
    "            \n",
    "            StartDate = monday['Date'][day]\n",
    "            EndDate=monday['Date'][day]\n",
    "        \n",
    "            StrikePrice=int(round(monday['Open'][day]/50)*50-(1000+50*strikes))  \n",
    "            \n",
    "            ExpiryDate = monday['Date'][day] + timedelta(days = 3)\n",
    "            a = web('NIFTY', start =StartDate, end = EndDate, index = True, option_type='CE', strike_price=StrikePrice, expiry_date=ExpiryDate)\n",
    "#             df=pd.DataFrame([StartDate,a['Open'][0],a['High'][0],a['Low'][0],a['Low'][0],a['Change in OI'][0]],columns=['Date','Open(+'+str(1000+50*(strikes))+')','High(+'+str(1000+50*(strikes))+')','Low(+'+str(1000+50*(strikes))+')','Close(+'+str(1000+50*(strikes))+')','Change in OI(+'+str(1000+50*(strikes))+')'])\n",
    "            temp_df['Open(+'+str(1000+50*(strikes))+')']=a['Open'][0]\n",
    "            temp_df['High(+'+str(1000+50*(strikes))+')']=a['High'][0]\n",
    "            temp_df['Low(+'+str(1000+50*(strikes))+')']=a['Low'][0]\n",
    "            temp_df['Close(+'+str(1000+50*(strikes))+')']=a['Close'][0]\n",
    "            temp_df['Change in OI(+'+str(1000+50*(strikes))+')']=a['Change in OI'][0]\n",
    "#             df.set_index('Date')\n",
    "#             temp_df = pd.concat([temp_df,df],axis=1)\n",
    "#         temp_df.set_index('Date')\n",
    "#         print(temp_df)\n",
    "        monday_ce_open = pd.concat([monday_ce_open,temp_df], axis = 0)\n",
    "            \n",
    "    except:\n",
    "        p=p+1\n",
    "        continue\n",
    "print(p)\n",
    "\n",
    "    "
   ]
  },
  {
   "cell_type": "code",
   "execution_count": null,
   "id": "c82d475f",
   "metadata": {},
   "outputs": [],
   "source": [
    "monday_ce_open.drop(monday_ce_open.index[0], inplace = True)"
   ]
  },
  {
   "cell_type": "code",
   "execution_count": null,
   "id": "98349869",
   "metadata": {},
   "outputs": [],
   "source": [
    "monday_ce_open.index = pd.to_datetime(monday_ce_open.index)"
   ]
  },
  {
   "cell_type": "code",
   "execution_count": null,
   "id": "4e55a238",
   "metadata": {},
   "outputs": [],
   "source": [
    "monday_ce_open.to_csv('monday_ce_open.csv',index = True)"
   ]
  },
  {
   "cell_type": "code",
   "execution_count": null,
   "id": "0073f6bc",
   "metadata": {},
   "outputs": [],
   "source": []
  },
  {
   "cell_type": "markdown",
   "id": "4e7d2edb",
   "metadata": {},
   "source": [
    "# tuesday close"
   ]
  },
  {
   "cell_type": "code",
   "execution_count": null,
   "id": "800cbe3a",
   "metadata": {},
   "outputs": [],
   "source": [
    "tuesday['Date']=pd.to_datetime(tuesday['Date'])\n",
    "cols=[]\n",
    "cols.append('Date')\n",
    "for i in range(10):\n",
    "    cols.append('Open(+'+str(1000+50*(i))+')')\n",
    "    cols.append('High(+'+str(1000+50*(i))+')')\n",
    "    cols.append('Low(+'+str(1000+50*(i))+')')\n",
    "    cols.append('Close(+'+str(1000+50*(i))+')')\n",
    "    cols.append('Change in OI(+'+str(1000+50*(i))+')')\n",
    "data = np.zeros(51)\n",
    "tuesday_ce_close = pd.DataFrame(data=[data],columns=cols)\n",
    "tuesday_ce_close.set_index('Date',inplace=True)\n",
    "\n",
    "p=0\n",
    "\n",
    "for day in range(len(tuesday.Close)):\n",
    "    try:\n",
    "        temp_df = pd.DataFrame(index = [tuesday['Date'][day]])\n",
    "#         temp_df.set_index['Date']\n",
    "        for strikes in range(10):\n",
    "            \n",
    "            StartDate = tuesday['Date'][day]\n",
    "            EndDate=tuesday['Date'][day]\n",
    "        \n",
    "            StrikePrice=int(round(tuesday['Close'][day]/50)*50+1000+50*strikes)  \n",
    "            \n",
    "            ExpiryDate = tuesday['Date'][day] + timedelta(days = 2)\n",
    "            a = web('NIFTY', start =StartDate, end = EndDate, index = True, option_type='CE', strike_price=StrikePrice, expiry_date=ExpiryDate)\n",
    "#             df=pd.DataFrame([StartDate,a['Open'][0],a['High'][0],a['Low'][0],a['Low'][0],a['Change in OI'][0]],columns=['Date','Open(+'+str(1000+50*(strikes))+')','High(+'+str(1000+50*(strikes))+')','Low(+'+str(1000+50*(strikes))+')','Close(+'+str(1000+50*(strikes))+')','Change in OI(+'+str(1000+50*(strikes))+')'])\n",
    "            temp_df['Open(+'+str(1000+50*(strikes))+')']=a['Open'][0]\n",
    "            temp_df['High(+'+str(1000+50*(strikes))+')']=a['High'][0]\n",
    "            temp_df['Low(+'+str(1000+50*(strikes))+')']=a['Low'][0]\n",
    "            temp_df['Close(+'+str(1000+50*(strikes))+')']=a['Close'][0]\n",
    "            temp_df['Change in OI(+'+str(1000+50*(strikes))+')']=a['Change in OI'][0]\n",
    "            temp_df['Open Interest(+'+str(1000+50*(strikes))+')']=a['Open Interest'][0]\n",
    "#             df.set_index('Date')\n",
    "#             temp_df = pd.concat([temp_df,df],axis=1)\n",
    "#         temp_df.set_index('Date')\n",
    "#         print(temp_df)\n",
    "        tuesday_ce_close = pd.concat([tuesday_ce_close,temp_df], axis = 0)\n",
    "            \n",
    "    except:\n",
    "        p=p+1\n",
    "        continue\n",
    "print(p)\n",
    "        \n",
    "\n",
    "\n",
    "    "
   ]
  },
  {
   "cell_type": "code",
   "execution_count": null,
   "id": "4dda9a2c",
   "metadata": {},
   "outputs": [],
   "source": [
    "tuesday_ce_close.drop(tuesday_ce_close.index[0],inplace = True)"
   ]
  },
  {
   "cell_type": "code",
   "execution_count": null,
   "id": "3c214527",
   "metadata": {},
   "outputs": [],
   "source": [
    "tuesday_ce_close.index = pd.to_datetime(tuesday_ce_close.index)"
   ]
  },
  {
   "cell_type": "code",
   "execution_count": null,
   "id": "675c7f07",
   "metadata": {},
   "outputs": [],
   "source": [
    "tuesday_ce_close.to_csv('tuesday_ce_close.csv',index = True)"
   ]
  },
  {
   "cell_type": "code",
   "execution_count": null,
   "id": "30bef34e",
   "metadata": {},
   "outputs": [],
   "source": []
  },
  {
   "cell_type": "markdown",
   "id": "dcd01899",
   "metadata": {},
   "source": [
    "# tuesday Open\n"
   ]
  },
  {
   "cell_type": "code",
   "execution_count": null,
   "id": "c3880c5a",
   "metadata": {},
   "outputs": [],
   "source": [
    "tuesday['Date']=pd.to_datetime(tuesday['Date'])\n",
    "cols=[]\n",
    "cols.append('Date')\n",
    "for i in range(10):\n",
    "    cols.append('Open(+'+str(1000+50*(i))+')')\n",
    "    cols.append('High(+'+str(1000+50*(i))+')')\n",
    "    cols.append('Low(+'+str(1000+50*(i))+')')\n",
    "    cols.append('Close(+'+str(1000+50*(i))+')')\n",
    "    cols.append('Change in OI(+'+str(1000+50*(i))+')')\n",
    "    cols.append('Open Interest(+'+str(1000+50*(i))+')')\n",
    "data = np.zeros(61)\n",
    "tuesday_ce_open = pd.DataFrame(data=[data],columns=cols)\n",
    "tuesday_ce_open.set_index('Date',inplace=True)\n",
    "\n",
    "p=0\n",
    "\n",
    "for day in range(len(tuesday.Open)):\n",
    "    try:\n",
    "        temp_df = pd.DataFrame(index = [tuesday['Date'][day]])\n",
    "#         temp_df.set_index['Date']\n",
    "        for strikes in range(10):\n",
    "            \n",
    "            StartDate = tuesday['Date'][day]\n",
    "            EndDate=tuesday['Date'][day]\n",
    "        \n",
    "            StrikePrice=int(round(tuesday['Open'][day]/50)*50+1000+50*strikes)  \n",
    "            \n",
    "            ExpiryDate = tuesday['Date'][day] + timedelta(days = 2)\n",
    "            a = web('NIFTY', start =StartDate, end = EndDate, index = True, option_type='CE', strike_price=StrikePrice, expiry_date=ExpiryDate)\n",
    "#             df=pd.DataFrame([StartDate,a['Open'][0],a['High'][0],a['Low'][0],a['Low'][0],a['Change in OI'][0]],columns=['Date','Open(+'+str(1000+50*(strikes))+')','High(+'+str(1000+50*(strikes))+')','Low(+'+str(1000+50*(strikes))+')','Close(+'+str(1000+50*(strikes))+')','Change in OI(+'+str(1000+50*(strikes))+')'])\n",
    "            temp_df['Open(+'+str(1000+50*(strikes))+')']=a['Open'][0]\n",
    "            temp_df['High(+'+str(1000+50*(strikes))+')']=a['High'][0]\n",
    "            temp_df['Low(+'+str(1000+50*(strikes))+')']=a['Low'][0]\n",
    "            temp_df['Close(+'+str(1000+50*(strikes))+')']=a['Close'][0]\n",
    "            temp_df['Change in OI(+'+str(1000+50*(strikes))+')']=a['Change in OI'][0]\n",
    "            temp_df['Open Interest(+'+str(1000+50*(strikes))+')']=a['Open Interest'][0]\n",
    "#             df.set_index('Date')\n",
    "#             temp_df = pd.concat([temp_df,df],axis=1)\n",
    "#         temp_df.set_index('Date')\n",
    "#         print(temp_df)\n",
    "        tuesday_ce_open = pd.concat([tuesday_ce_open,temp_df], axis = 0)\n",
    "            \n",
    "    except:\n",
    "        p=p+1\n",
    "        continue\n",
    "print(p)\n",
    "        \n",
    "\n",
    "\n",
    "    "
   ]
  },
  {
   "cell_type": "code",
   "execution_count": null,
   "id": "a1f0edb0",
   "metadata": {},
   "outputs": [],
   "source": [
    "tuesday_ce_open.drop(tuesday_ce_open.index[0],inplace = True)"
   ]
  },
  {
   "cell_type": "code",
   "execution_count": null,
   "id": "3476abbb",
   "metadata": {},
   "outputs": [],
   "source": [
    "tuesday_ce_open.index = pd.to_datetime(tuesday_ce_open.index)"
   ]
  },
  {
   "cell_type": "code",
   "execution_count": null,
   "id": "569d8da1",
   "metadata": {},
   "outputs": [],
   "source": [
    "tuesday_ce_open.to_csv('tuesday_ce_open.csv',index = True)"
   ]
  },
  {
   "cell_type": "code",
   "execution_count": null,
   "id": "2c3dce6b",
   "metadata": {},
   "outputs": [],
   "source": []
  },
  {
   "cell_type": "markdown",
   "id": "7bc589b1",
   "metadata": {},
   "source": [
    "# wednesday close"
   ]
  },
  {
   "cell_type": "code",
   "execution_count": null,
   "id": "f91d868a",
   "metadata": {},
   "outputs": [],
   "source": [
    "wednesday['Date']=pd.to_datetime(wednesday['Date'])\n",
    "cols=[]\n",
    "cols.append('Date')\n",
    "for i in range(10):\n",
    "    cols.append('Open(+'+str(1000+50*(i))+')')\n",
    "    cols.append('High(+'+str(1000+50*(i))+')')\n",
    "    cols.append('Low(+'+str(1000+50*(i))+')')\n",
    "    cols.append('Close(+'+str(1000+50*(i))+')')\n",
    "    cols.append('Change in OI(+'+str(1000+50*(i))+')')\n",
    "data = np.zeros(51)\n",
    "wednesday_ce_close = pd.DataFrame(data=[data],columns=cols)\n",
    "wednesday_ce_close.set_index('Date',inplace=True)\n",
    "\n",
    "p=0\n",
    "\n",
    "for day in range(len(wednesday.Close)):\n",
    "    try:\n",
    "        temp_df = pd.DataFrame(index = [wednesday['Date'][day]])\n",
    "#         temp_df.set_index['Date']\n",
    "        for strikes in range(10):\n",
    "            \n",
    "            StartDate = wednesday['Date'][day]\n",
    "            EndDate=wednesday['Date'][day]\n",
    "        \n",
    "            StrikePrice=int(round(wednesday['Close'][day]/50)*50+1000+50*strikes)  \n",
    "            \n",
    "            ExpiryDate = wednesday['Date'][day] + timedelta(days = 1)\n",
    "            a = web('NIFTY', start =StartDate, end = EndDate, index = True, option_type='CE', strike_price=StrikePrice, expiry_date=ExpiryDate)\n",
    "#             df=pd.DataFrame([StartDate,a['Open'][0],a['High'][0],a['Low'][0],a['Low'][0],a['Change in OI'][0]],columns=['Date','Open(+'+str(1000+50*(strikes))+')','High(+'+str(1000+50*(strikes))+')','Low(+'+str(1000+50*(strikes))+')','Close(+'+str(1000+50*(strikes))+')','Change in OI(+'+str(1000+50*(strikes))+')'])\n",
    "            temp_df['Open(+'+str(1000+50*(strikes))+')']=a['Open'][0]\n",
    "            temp_df['High(+'+str(1000+50*(strikes))+')']=a['High'][0]\n",
    "            temp_df['Low(+'+str(1000+50*(strikes))+')']=a['Low'][0]\n",
    "            temp_df['Close(+'+str(1000+50*(strikes))+')']=a['Close'][0]\n",
    "            temp_df['Change in OI(+'+str(1000+50*(strikes))+')']=a['Change in OI'][0]\n",
    "#             df.set_index('Date')\n",
    "#             temp_df = pd.concat([temp_df,df],axis=1)\n",
    "#         temp_df.set_index('Date')\n",
    "#         print(temp_df)\n",
    "        wednesday_ce_close = pd.concat([wednesday_ce_close,temp_df], axis = 0)\n",
    "            \n",
    "    except:\n",
    "        p=p+1\n",
    "        continue\n",
    "print(p)\n",
    "\n",
    "\n",
    "\n",
    "    "
   ]
  },
  {
   "cell_type": "code",
   "execution_count": null,
   "id": "fd9657d0",
   "metadata": {},
   "outputs": [],
   "source": [
    "wednesday_ce_close.drop(wednesday_ce_close.index[0],inplace = True)"
   ]
  },
  {
   "cell_type": "code",
   "execution_count": null,
   "id": "bb851ed0",
   "metadata": {},
   "outputs": [],
   "source": [
    "wednesday_ce_close.index = pd.to_datetime(wednesday_ce_close.index)"
   ]
  },
  {
   "cell_type": "code",
   "execution_count": null,
   "id": "c8c66bda",
   "metadata": {},
   "outputs": [],
   "source": [
    "wednesday_ce_close.to_csv('wednesday_ce_close.csv',index = True)"
   ]
  },
  {
   "cell_type": "code",
   "execution_count": null,
   "id": "f3b87738",
   "metadata": {},
   "outputs": [],
   "source": []
  },
  {
   "cell_type": "markdown",
   "id": "2684c5df",
   "metadata": {},
   "source": [
    "# wednesday open"
   ]
  },
  {
   "cell_type": "code",
   "execution_count": null,
   "id": "d4312b83",
   "metadata": {
    "scrolled": true
   },
   "outputs": [],
   "source": [
    "wednesday['Date']=pd.to_datetime(wednesday['Date'])\n",
    "cols=[]\n",
    "cols.append('Date')\n",
    "for i in range(10):\n",
    "    cols.append('Open(+'+str(1000+50*(i))+')')\n",
    "    cols.append('High(+'+str(1000+50*(i))+')')\n",
    "    cols.append('Low(+'+str(1000+50*(i))+')')\n",
    "    cols.append('Close(+'+str(1000+50*(i))+')')\n",
    "    cols.append('Change in OI(+'+str(1000+50*(i))+')')\n",
    "data = np.zeros(51)\n",
    "wednesday_ce_open = pd.DataFrame(data=[data],columns=cols)\n",
    "wednesday_ce_open.set_index('Date',inplace=True)\n",
    "\n",
    "p=0\n",
    "\n",
    "for day in range(len(wednesday.Open)):\n",
    "\n",
    "    try:\n",
    "        temp_df = pd.DataFrame(index = [wednesday['Date'][day]])\n",
    "#         temp_df.set_index['Date']\n",
    "        for strikes in range(10):\n",
    "            \n",
    "            StartDate = wednesday['Date'][day]\n",
    "            EndDate=wednesday['Date'][day]\n",
    "        \n",
    "            StrikePrice=int(round(wednesday['Open'][day]/50)*50+1000+50*strikes)  \n",
    "            \n",
    "            ExpiryDate = wednesday['Date'][day] + timedelta(days = 1)\n",
    "            a = web('NIFTY', start =StartDate, end = EndDate, index = True, option_type='CE', strike_price=StrikePrice, expiry_date=ExpiryDate)\n",
    "#             df=pd.DataFrame([StartDate,a['Open'][0],a['High'][0],a['Low'][0],a['Low'][0],a['Change in OI'][0]],columns=['Date','Open(+'+str(1000+50*(strikes))+')','High(+'+str(1000+50*(strikes))+')','Low(+'+str(1000+50*(strikes))+')','Close(+'+str(1000+50*(strikes))+')','Change in OI(+'+str(1000+50*(strikes))+')'])\n",
    "            temp_df['Open(+'+str(1000+50*(strikes))+')']=a['Open'][0]\n",
    "            temp_df['High(+'+str(1000+50*(strikes))+')']=a['High'][0]\n",
    "            temp_df['Low(+'+str(1000+50*(strikes))+')']=a['Low'][0]\n",
    "            temp_df['Close(+'+str(1000+50*(strikes))+')']=a['Close'][0]\n",
    "            temp_df['Change in OI(+'+str(1000+50*(strikes))+')']=a['Change in OI'][0]\n",
    "#             df.set_index('Date')\n",
    "#             temp_df = pd.concat([temp_df,df],axis=1)\n",
    "#         temp_df.set_index('Date')\n",
    "#         print(temp_df)\n",
    "        wednesday_ce_open = pd.concat([wednesday_ce_open,temp_df], axis = 0)\n",
    "            \n",
    "    except:\n",
    "        p=p+1\n",
    "        continue\n",
    "print(p)\n",
    "        \n",
    "\n",
    "\n",
    "    "
   ]
  },
  {
   "cell_type": "code",
   "execution_count": null,
   "id": "6e240673",
   "metadata": {},
   "outputs": [],
   "source": [
    "wednesday_ce_open.drop(wednesday_ce_open.index[0],inplace = True)"
   ]
  },
  {
   "cell_type": "code",
   "execution_count": null,
   "id": "9e0a8fc6",
   "metadata": {},
   "outputs": [],
   "source": [
    "wednesday_ce_open.index = pd.to_datetime(wednesday_ce_open.index)"
   ]
  },
  {
   "cell_type": "code",
   "execution_count": null,
   "id": "3cd65509",
   "metadata": {},
   "outputs": [],
   "source": [
    "wednesday_ce_open.to_csv('wednesday_ce_open.csv',index = True)"
   ]
  },
  {
   "cell_type": "code",
   "execution_count": null,
   "id": "7bf5cc26",
   "metadata": {},
   "outputs": [],
   "source": []
  },
  {
   "cell_type": "code",
   "execution_count": null,
   "id": "a7264143",
   "metadata": {},
   "outputs": [],
   "source": []
  },
  {
   "cell_type": "code",
   "execution_count": null,
   "id": "b47658e8",
   "metadata": {},
   "outputs": [],
   "source": [
    "thursday_ce_open"
   ]
  },
  {
   "cell_type": "code",
   "execution_count": null,
   "id": "21e2d3cc",
   "metadata": {
    "scrolled": true
   },
   "outputs": [],
   "source": [
    "thursday_ce_close"
   ]
  },
  {
   "cell_type": "code",
   "execution_count": null,
   "id": "71bd40d8",
   "metadata": {},
   "outputs": [],
   "source": []
  },
  {
   "cell_type": "code",
   "execution_count": null,
   "id": "4403a9e1",
   "metadata": {},
   "outputs": [],
   "source": []
  },
  {
   "cell_type": "code",
   "execution_count": null,
   "id": "8e08d208",
   "metadata": {},
   "outputs": [],
   "source": []
  },
  {
   "cell_type": "code",
   "execution_count": null,
   "id": "4a60cab5",
   "metadata": {},
   "outputs": [],
   "source": []
  },
  {
   "cell_type": "code",
   "execution_count": null,
   "id": "673f5bc9",
   "metadata": {},
   "outputs": [],
   "source": []
  },
  {
   "cell_type": "code",
   "execution_count": null,
   "id": "11a39290",
   "metadata": {},
   "outputs": [],
   "source": []
  },
  {
   "cell_type": "code",
   "execution_count": null,
   "id": "a0ec6060",
   "metadata": {},
   "outputs": [],
   "source": []
  },
  {
   "cell_type": "code",
   "execution_count": null,
   "id": "753f7c03",
   "metadata": {},
   "outputs": [],
   "source": []
  },
  {
   "cell_type": "code",
   "execution_count": null,
   "id": "9665ae51",
   "metadata": {},
   "outputs": [],
   "source": []
  },
  {
   "cell_type": "code",
   "execution_count": null,
   "id": "a51d4ea3",
   "metadata": {},
   "outputs": [],
   "source": []
  },
  {
   "cell_type": "code",
   "execution_count": null,
   "id": "26d10600",
   "metadata": {},
   "outputs": [],
   "source": []
  },
  {
   "cell_type": "code",
   "execution_count": null,
   "id": "913700bc",
   "metadata": {},
   "outputs": [],
   "source": []
  },
  {
   "cell_type": "code",
   "execution_count": null,
   "id": "609fbe16",
   "metadata": {},
   "outputs": [],
   "source": []
  },
  {
   "cell_type": "code",
   "execution_count": null,
   "id": "b9c1c191",
   "metadata": {},
   "outputs": [],
   "source": []
  },
  {
   "cell_type": "code",
   "execution_count": null,
   "id": "0527f173",
   "metadata": {},
   "outputs": [],
   "source": []
  },
  {
   "cell_type": "code",
   "execution_count": null,
   "id": "0260b841",
   "metadata": {},
   "outputs": [],
   "source": []
  },
  {
   "cell_type": "markdown",
   "id": "ae1092b7",
   "metadata": {},
   "source": [
    "# Thursday, next expiry\n",
    "\n"
   ]
  },
  {
   "cell_type": "code",
   "execution_count": null,
   "id": "87963587",
   "metadata": {},
   "outputs": [],
   "source": [
    "thursday_ce = pd.DataFrame()\n",
    "thursday_ce[''] = ['Open','High','Low','Close','Change in OI']\n",
    "thursday_ce.set_index('',inplace=True)\n",
    "# columns = ['+1000','+1050','+1100','+1150','+1200','+1250','+1300','+1350','+1400','+1450',]\n",
    "for x in range(10):\n",
    "    thursday_ce['+'+ str(1000+50*x)] = [0,0,0,0,0]\n",
    "\n",
    "thursday_ce\n"
   ]
  },
  {
   "cell_type": "code",
   "execution_count": null,
   "id": "820347ed",
   "metadata": {},
   "outputs": [],
   "source": [
    "for days in range(len(thursday['Close'])):\n",
    "    for strikes in range(10):\n",
    "        \n",
    "        StartDate = thursday['Date'][days]\n",
    "        EndDate=thursday['Date'][days]\n",
    "        \n",
    "        StrikePrice=int(round(thursday['Close'][days]/50)*50+1000+50*strikes)\n",
    "        try:\n",
    "            \n",
    "            ExpiryDate = thursday['Date'][days] + timedelta(days = 7)\n",
    "            a = web('NIFTY', start =StartDate, end = EndDate, index = True, option_type='CE', strike_price=StrikePrice, expiry_date=ExpiryDate)\n",
    "            Open=a['Open'][0]\n",
    "            High=a['High'][0]\n",
    "            Low=a['Low'][0]\n",
    "            Close=a['Close'][0]\n",
    "            ChangeOI=a['Change in OI'][0]\n",
    "        except:\n",
    "            try:\n",
    "                ExpiryDate = thursday['Date'][days] + timedelta(days = 6)\n",
    "                a = web('NIFTY', start =StartDate, end = EndDate, index = True, option_type='CE', strike_price=StrikePrice, expiry_date=ExpiryDate)\n",
    "                Open=a['Open'][0]\n",
    "                High=a['High'][0]\n",
    "                Low=a['Low'][0]\n",
    "                Close=a['Close'][0]\n",
    "                ChangeOI=a['Change in OI'][0]\n",
    "            except:\n",
    "                try:\n",
    "                    ExpiryDate = thursday['Date'][days] + timedelta(days = 5)\n",
    "                    a = web('NIFTY', start =StartDate, end = EndDate, index = True, option_type='CE', strike_price=StrikePrice, expiry_date=ExpiryDate)\n",
    "                    Open=a['Open'][0]\n",
    "                    High=a['High'][0]\n",
    "                    Low=a['Low'][0]\n",
    "                    Close=a['Close'][0]\n",
    "                    ChangeOI=a['Change in OI'][0]\n",
    "                except:\n",
    "                    try:\n",
    "                        ExpiryDate = thursday['Date'][days] + timedelta(days = 4)\n",
    "                        a = web('NIFTY', start =StartDate, end = EndDate, index = True, option_type='CE', strike_price=StrikePrice, expiry_date=ExpiryDate)\n",
    "                        Open=a['Open'][0]\n",
    "                        High=a['High'][0]\n",
    "                        Low=a['Low'][0]\n",
    "                        Close=a['Close'][0]\n",
    "                        ChangeOI=a['Change in OI'][0]\n",
    "                    except:\n",
    "                        Open=0\n",
    "                        High=0\n",
    "                        Low=0\n",
    "                        Close=0\n",
    "                        ChangeOI=0\n",
    "                            \n",
    "                    \n",
    "                    \n",
    "            \n",
    "            \n",
    "            \n",
    "            \n",
    "            \n",
    "#         columns = ['+1000','+1050','+1100','+1150','+1200','+1250','+1300','+1350','+1400','+1450',]\n",
    "        thursday_ce['+'+ str(1000+50*strikes)]= thursday_ce['+'+ str(1000+50*strikes)] + [Open,High,Low,Close,ChangeOI]"
   ]
  },
  {
   "cell_type": "markdown",
   "id": "e2163b07",
   "metadata": {},
   "source": [
    "# Friday\n"
   ]
  },
  {
   "cell_type": "code",
   "execution_count": null,
   "id": "5ef88287",
   "metadata": {},
   "outputs": [],
   "source": [
    "friday_ce = pd.DataFrame()\n",
    "friday_ce[''] = ['Open','High','Low','Close','Change in OI']\n",
    "friday_ce.set_index('',inplace=True)\n",
    "# columns = ['+1000','+1050','+1100','+1150','+1200','+1250','+1300','+1350','+1400','+1450',]\n",
    "for x in range(10):\n",
    "    thursday_ce['+'+ str(1000+50*x)] = [0,0,0,0,0]\n",
    "\n",
    "friday_ce\n"
   ]
  },
  {
   "cell_type": "code",
   "execution_count": null,
   "id": "449f6bec",
   "metadata": {},
   "outputs": [],
   "source": [
    "for days in range(len(friday['Close'])):\n",
    "    for strikes in range(10):\n",
    "        \n",
    "        StartDate = friday['Date'][days]\n",
    "        EndDate=friday['Date'][days]\n",
    "        ExpiryDate = friday['Date'][days] + timedelta(days = 6)\n",
    "        StrikePrice=int(round(friday['Close'][days]/50)*50+1000+50*strikes)\n",
    "        a = web('NIFTY', start =StartDate, end = EndDate, index = True, option_type='CE', strike_price=StrikePrice, expiry_date=ExpiryDate)\n",
    "#         columns = ['+1000','+1050','+1100','+1150','+1200','+1250','+1300','+1350','+1400','+1450',]\n",
    "        friday_ce['+'+ str(1000+50*strikes)]=friday_ce['+'+ str(1000+50*strikes)] + [a['Open'][0],a['High'][0],a['Low'][0],a['Close'][0],a['Change in OI'][0]]"
   ]
  },
  {
   "cell_type": "code",
   "execution_count": null,
   "id": "eef4c2c6",
   "metadata": {},
   "outputs": [],
   "source": [
    "friday_ce = friday_ce/len(friday['Close'])"
   ]
  },
  {
   "cell_type": "code",
   "execution_count": null,
   "id": "3ed108db",
   "metadata": {},
   "outputs": [],
   "source": [
    "friday_ce"
   ]
  },
  {
   "cell_type": "code",
   "execution_count": null,
   "id": "bf5bf789",
   "metadata": {},
   "outputs": [],
   "source": []
  },
  {
   "cell_type": "code",
   "execution_count": null,
   "id": "e9ed7119",
   "metadata": {},
   "outputs": [],
   "source": []
  },
  {
   "cell_type": "markdown",
   "id": "b2ee7807",
   "metadata": {},
   "source": [
    "# Monday"
   ]
  },
  {
   "cell_type": "code",
   "execution_count": null,
   "id": "b6361227",
   "metadata": {},
   "outputs": [],
   "source": [
    "monday_ce = pd.DataFrame()\n",
    "monday_ce[''] = ['Open','High','Low','Close','Change in OI']\n",
    "monday_ce.set_index('',inplace=True)\n",
    "# columns = ['+1000','+1050','+1100','+1150','+1200','+1250','+1300','+1350','+1400','+1450',]\n",
    "for x in range(10):\n",
    "    monday_ce['+'+ str(1000+50*x)] = [0,0,0,0,0]\n",
    "\n",
    "monday_ce\n"
   ]
  },
  {
   "cell_type": "code",
   "execution_count": null,
   "id": "daf66fd9",
   "metadata": {},
   "outputs": [],
   "source": [
    "for days in range(len(monday['Close'])):\n",
    "    for strikes in range(10):\n",
    "        \n",
    "        StartDate = monday['Date'][days]\n",
    "        EndDate=monday['Date'][days]\n",
    "        ExpiryDate = monday['Date'][days] + timedelta(days = 3)\n",
    "        StrikePrice=int(round(monday['Close'][days]/50)*50+1000+50*strikes)\n",
    "        a = web('NIFTY', start =StartDate, end = EndDate, index = True, option_type='CE', strike_price=StrikePrice, expiry_date=ExpiryDate)\n",
    "#         columns = ['+1000','+1050','+1100','+1150','+1200','+1250','+1300','+1350','+1400','+1450',]\n",
    "        monday_ce['+'+ str(1000+50*strikes)]= monday_ce['+'+ str(1000+50*strikes)] + [a['Open'][0],a['High'][0],a['Low'][0],a['Close'][0],a['Change in OI'][0]]"
   ]
  },
  {
   "cell_type": "code",
   "execution_count": null,
   "id": "c20ba20e",
   "metadata": {},
   "outputs": [],
   "source": [
    "monday_ce = monday_ce/len(monday['Close'])"
   ]
  },
  {
   "cell_type": "code",
   "execution_count": null,
   "id": "4780dd3d",
   "metadata": {},
   "outputs": [],
   "source": [
    "monday_ce"
   ]
  },
  {
   "cell_type": "code",
   "execution_count": null,
   "id": "534b5a5a",
   "metadata": {},
   "outputs": [],
   "source": []
  },
  {
   "cell_type": "code",
   "execution_count": null,
   "id": "c8c45982",
   "metadata": {},
   "outputs": [],
   "source": []
  },
  {
   "cell_type": "code",
   "execution_count": null,
   "id": "0a082aab",
   "metadata": {},
   "outputs": [],
   "source": []
  },
  {
   "cell_type": "markdown",
   "id": "0cce5f4f",
   "metadata": {},
   "source": [
    "# Tuesday"
   ]
  },
  {
   "cell_type": "code",
   "execution_count": null,
   "id": "5a220b10",
   "metadata": {},
   "outputs": [],
   "source": [
    "tuesday_ce = pd.DataFrame()\n",
    "tuesday_ce[''] = ['Open','High','Low','Close','Change in OI']\n",
    "tuesday_ce.set_index('',inplace=True)\n",
    "# columns = ['+1000','+1050','+1100','+1150','+1200','+1250','+1300','+1350','+1400','+1450',]\n",
    "for x in range(10):\n",
    "    tuesday_ce['+'+ str(1000+50*x)] = [0,0,0,0,0]\n",
    "tuesday_ce\n"
   ]
  },
  {
   "cell_type": "code",
   "execution_count": null,
   "id": "c5a61eea",
   "metadata": {},
   "outputs": [],
   "source": [
    "for days in range(len(tuesday['Close'])):\n",
    "    for strikes in range(10):\n",
    "        \n",
    "        StartDate = tuesday['Date'][days]\n",
    "        EndDate=tuesday['Date'][days]\n",
    "        ExpiryDate = tuesday['Date'][days] + timedelta(days = 2)\n",
    "        StrikePrice=int(round(tuesday['Close'][days]/50)*50+1000+50*strikes)\n",
    "        a = web('NIFTY', start =StartDate, end = EndDate, index = True, option_type='CE', strike_price=StrikePrice, expiry_date=ExpiryDate)\n",
    "#         columns = ['+1000','+1050','+1100','+1150','+1200','+1250','+1300','+1350','+1400','+1450',]\n",
    "        tuesday_ce['+'+ str(1000+50*strikes)]= tuesday_ce['+'+ str(1000+50*strikes)] + [a['Open'][0],a['High'][0],a['Low'][0],a['Close'][0],a['Change in OI'][0]]"
   ]
  },
  {
   "cell_type": "code",
   "execution_count": null,
   "id": "bbfb2f0c",
   "metadata": {},
   "outputs": [],
   "source": [
    "tuesday_ce = tuesday_ce/len(tuesday['Close'])"
   ]
  },
  {
   "cell_type": "code",
   "execution_count": null,
   "id": "0d906ceb",
   "metadata": {},
   "outputs": [],
   "source": [
    "tuesday_ce"
   ]
  },
  {
   "cell_type": "code",
   "execution_count": null,
   "id": "a3e3c28e",
   "metadata": {},
   "outputs": [],
   "source": []
  },
  {
   "cell_type": "code",
   "execution_count": null,
   "id": "ce6dffae",
   "metadata": {},
   "outputs": [],
   "source": []
  },
  {
   "cell_type": "markdown",
   "id": "bbe9901c",
   "metadata": {},
   "source": [
    "# Wednesday"
   ]
  },
  {
   "cell_type": "code",
   "execution_count": null,
   "id": "e4d5a9fa",
   "metadata": {},
   "outputs": [],
   "source": [
    "wednesday_ce = pd.DataFrame()\n",
    "wednesday_ce[''] = ['Open','High','Low','Close','Change in OI']\n",
    "wednesday_ce.set_index('',inplace=True)\n",
    "# columns = ['+1000','+1050','+1100','+1150','+1200','+1250','+1300','+1350','+1400','+1450',]\n",
    "for x in range(10):\n",
    "    wednesday_ce['+'+ str(1000+50*x)] = [0,0,0,0,0]\n",
    "\n",
    "wednesday_ce\n"
   ]
  },
  {
   "cell_type": "code",
   "execution_count": null,
   "id": "8d392895",
   "metadata": {},
   "outputs": [],
   "source": [
    "for days in range(len(wednesday['Close'])):\n",
    "    for strikes in range(10):\n",
    "        \n",
    "        StartDate = wednesday['Date'][days]\n",
    "        EndDate=wednesday['Date'][days]\n",
    "        ExpiryDate = wednesday['Date'][days] + timedelta(days = 1)\n",
    "        StrikePrice=int(round(wednesday['Close'][days]/50)*50+1000+50*strikes)\n",
    "        a = web('NIFTY', start =StartDate, end = EndDate, index = True, option_type='CE', strike_price=StrikePrice, expiry_date=ExpiryDate)\n",
    "#         columns = ['+1000','+1050','+1100','+1150','+1200','+1250','+1300','+1350','+1400','+1450',]\n",
    "        wednesday_ce['+'+ str(1000+50*strikes)]= wednesday_ce['+'+ str(1000+50*strikes)] + [a['Open'][0],a['High'][0],a['Low'][0],a['Close'][0],a['Change in OI'][0]]"
   ]
  },
  {
   "cell_type": "code",
   "execution_count": null,
   "id": "db3831bc",
   "metadata": {},
   "outputs": [],
   "source": [
    "wednesday_ce = wednesday_ce/len(wednesday['Close'])"
   ]
  },
  {
   "cell_type": "code",
   "execution_count": null,
   "id": "28903ff8",
   "metadata": {},
   "outputs": [],
   "source": [
    "wednesday_ce"
   ]
  },
  {
   "cell_type": "code",
   "execution_count": null,
   "id": "9bd44c53",
   "metadata": {},
   "outputs": [],
   "source": []
  },
  {
   "cell_type": "code",
   "execution_count": null,
   "id": "88d3905b",
   "metadata": {},
   "outputs": [],
   "source": []
  },
  {
   "cell_type": "code",
   "execution_count": null,
   "id": "422d1b2b",
   "metadata": {},
   "outputs": [],
   "source": []
  }
 ],
 "metadata": {
  "kernelspec": {
   "display_name": "Python 3 (ipykernel)",
   "language": "python",
   "name": "python3"
  },
  "language_info": {
   "codemirror_mode": {
    "name": "ipython",
    "version": 3
   },
   "file_extension": ".py",
   "mimetype": "text/x-python",
   "name": "python",
   "nbconvert_exporter": "python",
   "pygments_lexer": "ipython3",
   "version": "3.9.12"
  }
 },
 "nbformat": 4,
 "nbformat_minor": 5
}
